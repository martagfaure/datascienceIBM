{
  "metadata": {
    "kernelspec": {
      "name": "python",
      "display_name": "Python (Pyodide)",
      "language": "python"
    },
    "language_info": {
      "codemirror_mode": {
        "name": "python",
        "version": 3
      },
      "file_extension": ".py",
      "mimetype": "text/x-python",
      "name": "python",
      "nbconvert_exporter": "python",
      "pygments_lexer": "ipython3",
      "version": "3.8"
    }
  },
  "nbformat_minor": 4,
  "nbformat": 4,
  "cells": [
    {
      "cell_type": "markdown",
      "source": "# Data Science Tools and Ecosystem",
      "metadata": {}
    },
    {
      "cell_type": "markdown",
      "source": "In this notebook, Data Science Tools and Ecosystem are summarized.",
      "metadata": {}
    },
    {
      "cell_type": "markdown",
      "source": "**Some of the popular languages that Data Scientists use are:**\n1. English\n2. Spanish\n3. German",
      "metadata": {}
    },
    {
      "cell_type": "markdown",
      "source": "**Some of the commonly used libraries used by Data Scientists include:**\n\n    - Pandas\n    - Numpy\n    - Scikit-learn\n    - Keras / Tensorflow",
      "metadata": {}
    },
    {
      "cell_type": "markdown",
      "source": "| Data Science Tools      |\n|-------------------------|\n| Jupyter Notebook         |\n| RStudio                  |\n| Anaconda         |\n",
      "metadata": {}
    },
    {
      "cell_type": "markdown",
      "source": "### Below are a few examples of evaluating arithmetic expressions in Python",
      "metadata": {}
    },
    {
      "cell_type": "code",
      "source": "#This a simple arithmetic expression to mutiply then add integers.\n(3*4)+5.\n",
      "metadata": {
        "trusted": true
      },
      "outputs": [
        {
          "execution_count": 4,
          "output_type": "execute_result",
          "data": {
            "text/plain": "17.0"
          },
          "metadata": {}
        }
      ],
      "execution_count": 4
    },
    {
      "cell_type": "code",
      "source": "#This will convert 200 minutes to hours by diving by 60.\nminutes = 200\nhours = minutes / 60\nhours",
      "metadata": {
        "trusted": true
      },
      "outputs": [
        {
          "execution_count": 5,
          "output_type": "execute_result",
          "data": {
            "text/plain": "3.3333333333333335"
          },
          "metadata": {}
        }
      ],
      "execution_count": 5
    },
    {
      "cell_type": "markdown",
      "source": "***Objectives:***\n * List popular languages for Data Science.\n * List data science libraries\n * Introducing arithmetic expression examples",
      "metadata": {}
    },
    {
      "cell_type": "markdown",
      "source": "## Author\nMarta García-Faure Villarrubia",
      "metadata": {}
    }
  ]
}